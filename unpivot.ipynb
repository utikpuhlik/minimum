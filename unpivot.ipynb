{
 "cells": [
  {
   "cell_type": "code",
   "execution_count": 1,
   "metadata": {
    "collapsed": true
   },
   "outputs": [
    {
     "data": {
      "text/html": [
       "        <script type=\"text/javascript\">\n",
       "        window.PlotlyConfig = {MathJaxConfig: 'local'};\n",
       "        if (window.MathJax) {MathJax.Hub.Config({SVG: {font: \"STIX-Web\"}});}\n",
       "        if (typeof require !== 'undefined') {\n",
       "        require.undef(\"plotly\");\n",
       "        requirejs.config({\n",
       "            paths: {\n",
       "                'plotly': ['https://cdn.plot.ly/plotly-2.8.3.min']\n",
       "            }\n",
       "        });\n",
       "        require(['plotly'], function(Plotly) {\n",
       "            window._Plotly = Plotly;\n",
       "        });\n",
       "        }\n",
       "        </script>\n",
       "        "
      ]
     },
     "metadata": {},
     "output_type": "display_data"
    },
    {
     "data": {
      "text/html": [
       "        <script type=\"text/javascript\">\n",
       "        window.PlotlyConfig = {MathJaxConfig: 'local'};\n",
       "        if (window.MathJax) {MathJax.Hub.Config({SVG: {font: \"STIX-Web\"}});}\n",
       "        if (typeof require !== 'undefined') {\n",
       "        require.undef(\"plotly\");\n",
       "        requirejs.config({\n",
       "            paths: {\n",
       "                'plotly': ['https://cdn.plot.ly/plotly-2.8.3.min']\n",
       "            }\n",
       "        });\n",
       "        require(['plotly'], function(Plotly) {\n",
       "            window._Plotly = Plotly;\n",
       "        });\n",
       "        }\n",
       "        </script>\n",
       "        "
      ]
     },
     "metadata": {},
     "output_type": "display_data"
    },
    {
     "data": {
      "text/html": [
       "        <script type=\"text/javascript\">\n",
       "        window.PlotlyConfig = {MathJaxConfig: 'local'};\n",
       "        if (window.MathJax) {MathJax.Hub.Config({SVG: {font: \"STIX-Web\"}});}\n",
       "        if (typeof require !== 'undefined') {\n",
       "        require.undef(\"plotly\");\n",
       "        requirejs.config({\n",
       "            paths: {\n",
       "                'plotly': ['https://cdn.plot.ly/plotly-2.8.3.min']\n",
       "            }\n",
       "        });\n",
       "        require(['plotly'], function(Plotly) {\n",
       "            window._Plotly = Plotly;\n",
       "        });\n",
       "        }\n",
       "        </script>\n",
       "        "
      ]
     },
     "metadata": {},
     "output_type": "display_data"
    }
   ],
   "source": [
    "# Data Science\n",
    "import numpy as np\n",
    "import pandas as pd\n",
    "\n",
    "# Visual\n",
    "import matplotlib.pyplot as plt\n",
    "import seaborn as sns\n",
    "\n",
    "# plotly standard imports\n",
    "from chart_studio import plotly as py\n",
    "import plotly.graph_objs as go\n",
    "from plotly.offline import iplot\n",
    "import plotly.express as px\n",
    "# import plotly.io as pio\n",
    "\n",
    "# Cufflinks wrapper on plotly\n",
    "import cufflinks as cf\n",
    "cf.go_offline()\n",
    "# Setup Global Theme\n",
    "cf.set_config_file(world_readable=True, theme='space', offline=True)"
   ]
  },
  {
   "cell_type": "markdown",
   "metadata": {
    "pycharm": {
     "name": "#%% md\n"
    }
   },
   "source": [
    "# Input Cell\n"
   ]
  },
  {
   "cell_type": "code",
   "execution_count": 2,
   "metadata": {
    "pycharm": {
     "name": "#%%\n"
    }
   },
   "outputs": [],
   "source": [
    "unpivot_origin = pd.read_excel('data/all.xlsx', sheet_name='Location - unpivot')\n",
    "demography_origin = pd.read_excel('data/all.xlsx')\n",
    "demography = demography_origin\n",
    "unpivot = unpivot_origin"
   ]
  },
  {
   "cell_type": "code",
   "execution_count": 3,
   "metadata": {
    "pycharm": {
     "name": "#%%\n"
    }
   },
   "outputs": [],
   "source": [
    "demography.drop_duplicates('ID', inplace=True)\n",
    "demo_to_merge = demography[['ID','Weekly income', 'Preferred quality', 'Favourite ad type', 'Favourite category']]\n",
    "after_merge = unpivot.merge(demo_to_merge, left_on='ID', right_on='ID', how='left').dropna()"
   ]
  },
  {
   "cell_type": "markdown",
   "metadata": {
    "pycharm": {
     "name": "#%% md\n"
    }
   },
   "source": [
    "## Stratification by Income"
   ]
  },
  {
   "cell_type": "code",
   "execution_count": 4,
   "metadata": {
    "pycharm": {
     "name": "#%%\n"
    }
   },
   "outputs": [],
   "source": [
    "def income_stratification(x):\n",
    "    if x <= 50:\n",
    "        return 'low'\n",
    "    elif 50 < x <= 150:\n",
    "        return 'medium'\n",
    "    return 'high'\n",
    "after_merge['Stratification by income'] = np.vectorize(income_stratification)(after_merge['Weekly income'])"
   ]
  },
  {
   "cell_type": "markdown",
   "metadata": {},
   "source": [
    "### Medium"
   ]
  },
  {
   "cell_type": "code",
   "execution_count": 5,
   "metadata": {
    "pycharm": {
     "name": "#%%\n"
    }
   },
   "outputs": [],
   "source": [
    "medium_asian = after_merge[(after_merge['Stratification by income']=='medium')\n",
    "                           & (after_merge['Favourite category'] == 'Asian cuisine')]\n",
    "\n",
    "medium_it = after_merge[(after_merge['Stratification by income']=='medium')\n",
    "                           & (after_merge['Favourite category'] == 'Italian cuisine')]"
   ]
  },
  {
   "cell_type": "markdown",
   "metadata": {
    "pycharm": {
     "name": "#%% md\n"
    }
   },
   "source": [
    "#### Kolik lidi ze skupiny Asian+Medium"
   ]
  },
  {
   "cell_type": "code",
   "execution_count": 19,
   "metadata": {
    "pycharm": {
     "name": "#%%\n"
    }
   },
   "outputs": [
    {
     "data": {
      "text/html": [
       "<style type=\"text/css\">\n",
       "#T_afea1_row0_col0, #T_afea1_row0_col2, #T_afea1_row1_col0, #T_afea1_row1_col2, #T_afea1_row2_col0, #T_afea1_row2_col2, #T_afea1_row3_col0, #T_afea1_row3_col2, #T_afea1_row4_col0, #T_afea1_row4_col2, #T_afea1_row5_col0, #T_afea1_row5_col2, #T_afea1_row6_col0, #T_afea1_row6_col2, #T_afea1_row7_col0, #T_afea1_row7_col1, #T_afea1_row8_col0, #T_afea1_row8_col1, #T_afea1_row9_col0, #T_afea1_row9_col1, #T_afea1_row10_col0, #T_afea1_row10_col1, #T_afea1_row11_col0, #T_afea1_row11_col1, #T_afea1_row12_col1, #T_afea1_row14_col2, #T_afea1_row15_col1, #T_afea1_row15_col2, #T_afea1_row16_col1, #T_afea1_row16_col2, #T_afea1_row18_col1, #T_afea1_row19_col0, #T_afea1_row19_col1, #T_afea1_row20_col0, #T_afea1_row20_col1, #T_afea1_row21_col0, #T_afea1_row21_col1, #T_afea1_row23_col0, #T_afea1_row25_col2 {\n",
       "  background-color: #000000;\n",
       "  color: #f1f1f1;\n",
       "}\n",
       "#T_afea1_row0_col1, #T_afea1_row14_col1 {\n",
       "  background-color: #328dbf;\n",
       "  color: #f1f1f1;\n",
       "}\n",
       "#T_afea1_row1_col1, #T_afea1_row23_col1 {\n",
       "  background-color: #e0dded;\n",
       "  color: #000000;\n",
       "}\n",
       "#T_afea1_row2_col1, #T_afea1_row5_col1, #T_afea1_row24_col1 {\n",
       "  background-color: #a9bfdc;\n",
       "  color: #000000;\n",
       "}\n",
       "#T_afea1_row3_col1 {\n",
       "  background-color: #5ea0ca;\n",
       "  color: #f1f1f1;\n",
       "}\n",
       "#T_afea1_row4_col1, #T_afea1_row6_col1, #T_afea1_row26_col1, #T_afea1_row28_col1 {\n",
       "  background-color: #0d75b3;\n",
       "  color: #f1f1f1;\n",
       "}\n",
       "#T_afea1_row7_col2, #T_afea1_row8_col2, #T_afea1_row19_col2 {\n",
       "  background-color: #187cb6;\n",
       "  color: #f1f1f1;\n",
       "}\n",
       "#T_afea1_row9_col2, #T_afea1_row24_col2 {\n",
       "  background-color: #045382;\n",
       "  color: #f1f1f1;\n",
       "}\n",
       "#T_afea1_row10_col2, #T_afea1_row12_col2, #T_afea1_row22_col2, #T_afea1_row23_col2, #T_afea1_row27_col2 {\n",
       "  background-color: #0567a2;\n",
       "  color: #f1f1f1;\n",
       "}\n",
       "#T_afea1_row11_col2, #T_afea1_row21_col2 {\n",
       "  background-color: #f0eaf4;\n",
       "  color: #000000;\n",
       "}\n",
       "#T_afea1_row12_col0, #T_afea1_row26_col0 {\n",
       "  background-color: #358fc0;\n",
       "  color: #f1f1f1;\n",
       "}\n",
       "#T_afea1_row13_col0, #T_afea1_row13_col1, #T_afea1_row17_col1, #T_afea1_row28_col2 {\n",
       "  background-color: #023858;\n",
       "  color: #f1f1f1;\n",
       "}\n",
       "#T_afea1_row13_col2, #T_afea1_row27_col0, #T_afea1_row27_col1 {\n",
       "  background-color: #fff7fb;\n",
       "  color: #000000;\n",
       "}\n",
       "#T_afea1_row14_col0, #T_afea1_row15_col0 {\n",
       "  background-color: #73a9cf;\n",
       "  color: #f1f1f1;\n",
       "}\n",
       "#T_afea1_row16_col0, #T_afea1_row22_col0 {\n",
       "  background-color: #d0d1e6;\n",
       "  color: #000000;\n",
       "}\n",
       "#T_afea1_row17_col0 {\n",
       "  background-color: #04598c;\n",
       "  color: #f1f1f1;\n",
       "}\n",
       "#T_afea1_row17_col2 {\n",
       "  background-color: #4295c3;\n",
       "  color: #f1f1f1;\n",
       "}\n",
       "#T_afea1_row18_col0 {\n",
       "  background-color: #549cc7;\n",
       "  color: #f1f1f1;\n",
       "}\n",
       "#T_afea1_row18_col2, #T_afea1_row20_col2 {\n",
       "  background-color: #9cb9d9;\n",
       "  color: #000000;\n",
       "}\n",
       "#T_afea1_row22_col1 {\n",
       "  background-color: #04649d;\n",
       "  color: #f1f1f1;\n",
       "}\n",
       "#T_afea1_row24_col0, #T_afea1_row25_col0 {\n",
       "  background-color: #a5bddb;\n",
       "  color: #000000;\n",
       "}\n",
       "#T_afea1_row25_col1 {\n",
       "  background-color: #03517e;\n",
       "  color: #f1f1f1;\n",
       "}\n",
       "#T_afea1_row26_col2 {\n",
       "  background-color: #c0c9e2;\n",
       "  color: #000000;\n",
       "}\n",
       "#T_afea1_row28_col0 {\n",
       "  background-color: #bbc7e0;\n",
       "  color: #000000;\n",
       "}\n",
       "</style>\n",
       "<table id=\"T_afea1\">\n",
       "  <thead>\n",
       "    <tr>\n",
       "      <th class=\"blank\" >&nbsp;</th>\n",
       "      <th class=\"index_name level0\" >Time</th>\n",
       "      <th id=\"T_afea1_level0_col0\" class=\"col_heading level0 col0\" >0-8h</th>\n",
       "      <th id=\"T_afea1_level0_col1\" class=\"col_heading level0 col1\" >8-16h</th>\n",
       "      <th id=\"T_afea1_level0_col2\" class=\"col_heading level0 col2\" >16-24h</th>\n",
       "    </tr>\n",
       "    <tr>\n",
       "      <th class=\"index_name level0\" >Location</th>\n",
       "      <th class=\"index_name level1\" >Day</th>\n",
       "      <th class=\"blank col0\" >&nbsp;</th>\n",
       "      <th class=\"blank col1\" >&nbsp;</th>\n",
       "      <th class=\"blank col2\" >&nbsp;</th>\n",
       "    </tr>\n",
       "  </thead>\n",
       "  <tbody>\n",
       "    <tr>\n",
       "      <th id=\"T_afea1_level0_row0\" class=\"row_heading level0 row0\" rowspan=\"7\">Historical center</th>\n",
       "      <th id=\"T_afea1_level1_row0\" class=\"row_heading level1 row0\" >FRI</th>\n",
       "      <td id=\"T_afea1_row0_col0\" class=\"data row0 col0\" >nan</td>\n",
       "      <td id=\"T_afea1_row0_col1\" class=\"data row0 col1\" >8.000000</td>\n",
       "      <td id=\"T_afea1_row0_col2\" class=\"data row0 col2\" >nan</td>\n",
       "    </tr>\n",
       "    <tr>\n",
       "      <th id=\"T_afea1_level1_row1\" class=\"row_heading level1 row1\" >MON</th>\n",
       "      <td id=\"T_afea1_row1_col0\" class=\"data row1 col0\" >nan</td>\n",
       "      <td id=\"T_afea1_row1_col1\" class=\"data row1 col1\" >3.000000</td>\n",
       "      <td id=\"T_afea1_row1_col2\" class=\"data row1 col2\" >nan</td>\n",
       "    </tr>\n",
       "    <tr>\n",
       "      <th id=\"T_afea1_level1_row2\" class=\"row_heading level1 row2\" >SAT</th>\n",
       "      <td id=\"T_afea1_row2_col0\" class=\"data row2 col0\" >nan</td>\n",
       "      <td id=\"T_afea1_row2_col1\" class=\"data row2 col1\" >5.000000</td>\n",
       "      <td id=\"T_afea1_row2_col2\" class=\"data row2 col2\" >nan</td>\n",
       "    </tr>\n",
       "    <tr>\n",
       "      <th id=\"T_afea1_level1_row3\" class=\"row_heading level1 row3\" >SUN</th>\n",
       "      <td id=\"T_afea1_row3_col0\" class=\"data row3 col0\" >nan</td>\n",
       "      <td id=\"T_afea1_row3_col1\" class=\"data row3 col1\" >7.000000</td>\n",
       "      <td id=\"T_afea1_row3_col2\" class=\"data row3 col2\" >nan</td>\n",
       "    </tr>\n",
       "    <tr>\n",
       "      <th id=\"T_afea1_level1_row4\" class=\"row_heading level1 row4\" >THU</th>\n",
       "      <td id=\"T_afea1_row4_col0\" class=\"data row4 col0\" >nan</td>\n",
       "      <td id=\"T_afea1_row4_col1\" class=\"data row4 col1\" >9.000000</td>\n",
       "      <td id=\"T_afea1_row4_col2\" class=\"data row4 col2\" >nan</td>\n",
       "    </tr>\n",
       "    <tr>\n",
       "      <th id=\"T_afea1_level1_row5\" class=\"row_heading level1 row5\" >TUE</th>\n",
       "      <td id=\"T_afea1_row5_col0\" class=\"data row5 col0\" >nan</td>\n",
       "      <td id=\"T_afea1_row5_col1\" class=\"data row5 col1\" >5.000000</td>\n",
       "      <td id=\"T_afea1_row5_col2\" class=\"data row5 col2\" >nan</td>\n",
       "    </tr>\n",
       "    <tr>\n",
       "      <th id=\"T_afea1_level1_row6\" class=\"row_heading level1 row6\" >WED</th>\n",
       "      <td id=\"T_afea1_row6_col0\" class=\"data row6 col0\" >nan</td>\n",
       "      <td id=\"T_afea1_row6_col1\" class=\"data row6 col1\" >9.000000</td>\n",
       "      <td id=\"T_afea1_row6_col2\" class=\"data row6 col2\" >nan</td>\n",
       "    </tr>\n",
       "    <tr>\n",
       "      <th id=\"T_afea1_level0_row7\" class=\"row_heading level0 row7\" rowspan=\"5\">Housing district</th>\n",
       "      <th id=\"T_afea1_level1_row7\" class=\"row_heading level1 row7\" >MON</th>\n",
       "      <td id=\"T_afea1_row7_col0\" class=\"data row7 col0\" >nan</td>\n",
       "      <td id=\"T_afea1_row7_col1\" class=\"data row7 col1\" >nan</td>\n",
       "      <td id=\"T_afea1_row7_col2\" class=\"data row7 col2\" >8.000000</td>\n",
       "    </tr>\n",
       "    <tr>\n",
       "      <th id=\"T_afea1_level1_row8\" class=\"row_heading level1 row8\" >SAT</th>\n",
       "      <td id=\"T_afea1_row8_col0\" class=\"data row8 col0\" >nan</td>\n",
       "      <td id=\"T_afea1_row8_col1\" class=\"data row8 col1\" >nan</td>\n",
       "      <td id=\"T_afea1_row8_col2\" class=\"data row8 col2\" >8.000000</td>\n",
       "    </tr>\n",
       "    <tr>\n",
       "      <th id=\"T_afea1_level1_row9\" class=\"row_heading level1 row9\" >SUN</th>\n",
       "      <td id=\"T_afea1_row9_col0\" class=\"data row9 col0\" >nan</td>\n",
       "      <td id=\"T_afea1_row9_col1\" class=\"data row9 col1\" >nan</td>\n",
       "      <td id=\"T_afea1_row9_col2\" class=\"data row9 col2\" >10.000000</td>\n",
       "    </tr>\n",
       "    <tr>\n",
       "      <th id=\"T_afea1_level1_row10\" class=\"row_heading level1 row10\" >THU</th>\n",
       "      <td id=\"T_afea1_row10_col0\" class=\"data row10 col0\" >nan</td>\n",
       "      <td id=\"T_afea1_row10_col1\" class=\"data row10 col1\" >nan</td>\n",
       "      <td id=\"T_afea1_row10_col2\" class=\"data row10 col2\" >9.000000</td>\n",
       "    </tr>\n",
       "    <tr>\n",
       "      <th id=\"T_afea1_level1_row11\" class=\"row_heading level1 row11\" >WED</th>\n",
       "      <td id=\"T_afea1_row11_col0\" class=\"data row11 col0\" >nan</td>\n",
       "      <td id=\"T_afea1_row11_col1\" class=\"data row11 col1\" >nan</td>\n",
       "      <td id=\"T_afea1_row11_col2\" class=\"data row11 col2\" >2.000000</td>\n",
       "    </tr>\n",
       "    <tr>\n",
       "      <th id=\"T_afea1_level0_row12\" class=\"row_heading level0 row12\" rowspan=\"7\">Office district</th>\n",
       "      <th id=\"T_afea1_level1_row12\" class=\"row_heading level1 row12\" >FRI</th>\n",
       "      <td id=\"T_afea1_row12_col0\" class=\"data row12 col0\" >12.000000</td>\n",
       "      <td id=\"T_afea1_row12_col1\" class=\"data row12 col1\" >nan</td>\n",
       "      <td id=\"T_afea1_row12_col2\" class=\"data row12 col2\" >9.000000</td>\n",
       "    </tr>\n",
       "    <tr>\n",
       "      <th id=\"T_afea1_level1_row13\" class=\"row_heading level1 row13\" >MON</th>\n",
       "      <td id=\"T_afea1_row13_col0\" class=\"data row13 col0\" >18.000000</td>\n",
       "      <td id=\"T_afea1_row13_col1\" class=\"data row13 col1\" >12.000000</td>\n",
       "      <td id=\"T_afea1_row13_col2\" class=\"data row13 col2\" >1.000000</td>\n",
       "    </tr>\n",
       "    <tr>\n",
       "      <th id=\"T_afea1_level1_row14\" class=\"row_heading level1 row14\" >SAT</th>\n",
       "      <td id=\"T_afea1_row14_col0\" class=\"data row14 col0\" >10.000000</td>\n",
       "      <td id=\"T_afea1_row14_col1\" class=\"data row14 col1\" >8.000000</td>\n",
       "      <td id=\"T_afea1_row14_col2\" class=\"data row14 col2\" >nan</td>\n",
       "    </tr>\n",
       "    <tr>\n",
       "      <th id=\"T_afea1_level1_row15\" class=\"row_heading level1 row15\" >SUN</th>\n",
       "      <td id=\"T_afea1_row15_col0\" class=\"data row15 col0\" >10.000000</td>\n",
       "      <td id=\"T_afea1_row15_col1\" class=\"data row15 col1\" >nan</td>\n",
       "      <td id=\"T_afea1_row15_col2\" class=\"data row15 col2\" >nan</td>\n",
       "    </tr>\n",
       "    <tr>\n",
       "      <th id=\"T_afea1_level1_row16\" class=\"row_heading level1 row16\" >THU</th>\n",
       "      <td id=\"T_afea1_row16_col0\" class=\"data row16 col0\" >6.000000</td>\n",
       "      <td id=\"T_afea1_row16_col1\" class=\"data row16 col1\" >nan</td>\n",
       "      <td id=\"T_afea1_row16_col2\" class=\"data row16 col2\" >nan</td>\n",
       "    </tr>\n",
       "    <tr>\n",
       "      <th id=\"T_afea1_level1_row17\" class=\"row_heading level1 row17\" >TUE</th>\n",
       "      <td id=\"T_afea1_row17_col0\" class=\"data row17 col0\" >16.000000</td>\n",
       "      <td id=\"T_afea1_row17_col1\" class=\"data row17 col1\" >12.000000</td>\n",
       "      <td id=\"T_afea1_row17_col2\" class=\"data row17 col2\" >7.000000</td>\n",
       "    </tr>\n",
       "    <tr>\n",
       "      <th id=\"T_afea1_level1_row18\" class=\"row_heading level1 row18\" >WED</th>\n",
       "      <td id=\"T_afea1_row18_col0\" class=\"data row18 col0\" >11.000000</td>\n",
       "      <td id=\"T_afea1_row18_col1\" class=\"data row18 col1\" >nan</td>\n",
       "      <td id=\"T_afea1_row18_col2\" class=\"data row18 col2\" >5.000000</td>\n",
       "    </tr>\n",
       "    <tr>\n",
       "      <th id=\"T_afea1_level0_row19\" class=\"row_heading level0 row19\" rowspan=\"3\">Outskirts</th>\n",
       "      <th id=\"T_afea1_level1_row19\" class=\"row_heading level1 row19\" >SUN</th>\n",
       "      <td id=\"T_afea1_row19_col0\" class=\"data row19 col0\" >nan</td>\n",
       "      <td id=\"T_afea1_row19_col1\" class=\"data row19 col1\" >nan</td>\n",
       "      <td id=\"T_afea1_row19_col2\" class=\"data row19 col2\" >8.000000</td>\n",
       "    </tr>\n",
       "    <tr>\n",
       "      <th id=\"T_afea1_level1_row20\" class=\"row_heading level1 row20\" >THU</th>\n",
       "      <td id=\"T_afea1_row20_col0\" class=\"data row20 col0\" >nan</td>\n",
       "      <td id=\"T_afea1_row20_col1\" class=\"data row20 col1\" >nan</td>\n",
       "      <td id=\"T_afea1_row20_col2\" class=\"data row20 col2\" >5.000000</td>\n",
       "    </tr>\n",
       "    <tr>\n",
       "      <th id=\"T_afea1_level1_row21\" class=\"row_heading level1 row21\" >TUE</th>\n",
       "      <td id=\"T_afea1_row21_col0\" class=\"data row21 col0\" >nan</td>\n",
       "      <td id=\"T_afea1_row21_col1\" class=\"data row21 col1\" >nan</td>\n",
       "      <td id=\"T_afea1_row21_col2\" class=\"data row21 col2\" >2.000000</td>\n",
       "    </tr>\n",
       "    <tr>\n",
       "      <th id=\"T_afea1_level0_row22\" class=\"row_heading level0 row22\" rowspan=\"7\">Park</th>\n",
       "      <th id=\"T_afea1_level1_row22\" class=\"row_heading level1 row22\" >FRI</th>\n",
       "      <td id=\"T_afea1_row22_col0\" class=\"data row22 col0\" >6.000000</td>\n",
       "      <td id=\"T_afea1_row22_col1\" class=\"data row22 col1\" >10.000000</td>\n",
       "      <td id=\"T_afea1_row22_col2\" class=\"data row22 col2\" >9.000000</td>\n",
       "    </tr>\n",
       "    <tr>\n",
       "      <th id=\"T_afea1_level1_row23\" class=\"row_heading level1 row23\" >MON</th>\n",
       "      <td id=\"T_afea1_row23_col0\" class=\"data row23 col0\" >nan</td>\n",
       "      <td id=\"T_afea1_row23_col1\" class=\"data row23 col1\" >3.000000</td>\n",
       "      <td id=\"T_afea1_row23_col2\" class=\"data row23 col2\" >9.000000</td>\n",
       "    </tr>\n",
       "    <tr>\n",
       "      <th id=\"T_afea1_level1_row24\" class=\"row_heading level1 row24\" >SAT</th>\n",
       "      <td id=\"T_afea1_row24_col0\" class=\"data row24 col0\" >8.000000</td>\n",
       "      <td id=\"T_afea1_row24_col1\" class=\"data row24 col1\" >5.000000</td>\n",
       "      <td id=\"T_afea1_row24_col2\" class=\"data row24 col2\" >10.000000</td>\n",
       "    </tr>\n",
       "    <tr>\n",
       "      <th id=\"T_afea1_level1_row25\" class=\"row_heading level1 row25\" >SUN</th>\n",
       "      <td id=\"T_afea1_row25_col0\" class=\"data row25 col0\" >8.000000</td>\n",
       "      <td id=\"T_afea1_row25_col1\" class=\"data row25 col1\" >11.000000</td>\n",
       "      <td id=\"T_afea1_row25_col2\" class=\"data row25 col2\" >nan</td>\n",
       "    </tr>\n",
       "    <tr>\n",
       "      <th id=\"T_afea1_level1_row26\" class=\"row_heading level1 row26\" >THU</th>\n",
       "      <td id=\"T_afea1_row26_col0\" class=\"data row26 col0\" >12.000000</td>\n",
       "      <td id=\"T_afea1_row26_col1\" class=\"data row26 col1\" >9.000000</td>\n",
       "      <td id=\"T_afea1_row26_col2\" class=\"data row26 col2\" >4.000000</td>\n",
       "    </tr>\n",
       "    <tr>\n",
       "      <th id=\"T_afea1_level1_row27\" class=\"row_heading level1 row27\" >TUE</th>\n",
       "      <td id=\"T_afea1_row27_col0\" class=\"data row27 col0\" >2.000000</td>\n",
       "      <td id=\"T_afea1_row27_col1\" class=\"data row27 col1\" >1.000000</td>\n",
       "      <td id=\"T_afea1_row27_col2\" class=\"data row27 col2\" >9.000000</td>\n",
       "    </tr>\n",
       "    <tr>\n",
       "      <th id=\"T_afea1_level1_row28\" class=\"row_heading level1 row28\" >WED</th>\n",
       "      <td id=\"T_afea1_row28_col0\" class=\"data row28 col0\" >7.000000</td>\n",
       "      <td id=\"T_afea1_row28_col1\" class=\"data row28 col1\" >9.000000</td>\n",
       "      <td id=\"T_afea1_row28_col2\" class=\"data row28 col2\" >11.000000</td>\n",
       "    </tr>\n",
       "  </tbody>\n",
       "</table>\n"
      ],
      "text/plain": [
       "<pandas.io.formats.style.Styler at 0x1f6871295d0>"
      ]
     },
     "execution_count": 19,
     "metadata": {},
     "output_type": "execute_result"
    }
   ],
   "source": [
    "medium_asian.groupby(['Location', 'Day', 'Time']).size().unstack().reindex(['0-8h', '8-16h', '16-24h'], axis=1).style.background_gradient()"
   ]
  },
  {
   "cell_type": "code",
   "execution_count": null,
   "metadata": {
    "pycharm": {
     "name": "#%%\n"
    }
   },
   "outputs": [],
   "source": []
  }
 ],
 "metadata": {
  "kernelspec": {
   "display_name": "Python 3 (ipykernel)",
   "language": "python",
   "name": "python3"
  },
  "language_info": {
   "codemirror_mode": {
    "name": "ipython",
    "version": 3
   },
   "file_extension": ".py",
   "mimetype": "text/x-python",
   "name": "python",
   "nbconvert_exporter": "python",
   "pygments_lexer": "ipython3",
   "version": "3.10.0"
  }
 },
 "nbformat": 4,
 "nbformat_minor": 1
}