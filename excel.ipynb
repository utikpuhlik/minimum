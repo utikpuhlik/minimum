{
 "cells": [
  {
   "cell_type": "code",
   "execution_count": 3,
   "metadata": {
    "collapsed": true
   },
   "outputs": [],
   "source": [
    "import numpy as np\n",
    "import pandas\n",
    "import numpy\n",
    "import pandas as pd\n",
    "import matplotlib.pyplot as plt\n",
    "import seaborn as sns"
   ]
  },
  {
   "cell_type": "markdown",
   "source": [
    "## Input cells"
   ],
   "metadata": {
    "collapsed": false,
    "pycharm": {
     "name": "#%% md\n"
    }
   }
  },
  {
   "cell_type": "code",
   "execution_count": 5,
   "outputs": [],
   "source": [
    "stat = pd.read_excel('data/excel/Section4_Statistical_Functions.xlsx', sheet_name='Salary Data')"
   ],
   "metadata": {
    "collapsed": false,
    "pycharm": {
     "name": "#%%\n"
    }
   }
  },
  {
   "cell_type": "code",
   "execution_count": 8,
   "outputs": [],
   "source": [
    "weather = pd.read_excel('data/excel/Section3_Logical_Operators.xlsx')"
   ],
   "metadata": {
    "collapsed": false,
    "pycharm": {
     "name": "#%%\n"
    }
   }
  },
  {
   "cell_type": "code",
   "execution_count": 9,
   "outputs": [],
   "source": [
    "ex = pd.read_excel('data/excel/Section2_Formulas100.xlsx')"
   ],
   "metadata": {
    "collapsed": false,
    "pycharm": {
     "name": "#%%\n"
    }
   }
  },
  {
   "cell_type": "markdown",
   "source": [
    "### getting dd/mm/yy"
   ],
   "metadata": {
    "collapsed": false,
    "pycharm": {
     "name": "#%% md\n"
    }
   }
  },
  {
   "cell_type": "code",
   "execution_count": 10,
   "outputs": [],
   "source": [
    "ex['Birth Year'] = pd.DatetimeIndex(ex['Birth Date']).year"
   ],
   "metadata": {
    "collapsed": false,
    "pycharm": {
     "name": "#%%\n"
    }
   }
  },
  {
   "cell_type": "markdown",
   "source": [
    "### getting first 3 characters form string"
   ],
   "metadata": {
    "collapsed": false,
    "pycharm": {
     "name": "#%% md\n"
    }
   }
  },
  {
   "cell_type": "code",
   "execution_count": 11,
   "outputs": [],
   "source": [
    "ex['Area Code'] = ex['Telephone'].str[:3]"
   ],
   "metadata": {
    "collapsed": false,
    "pycharm": {
     "name": "#%%\n"
    }
   }
  },
  {
   "cell_type": "markdown",
   "source": [
    "### getting username from emails"
   ],
   "metadata": {
    "collapsed": false,
    "pycharm": {
     "name": "#%% md\n"
    }
   }
  },
  {
   "cell_type": "code",
   "execution_count": 12,
   "outputs": [],
   "source": [
    "ex['Username'] = ex['E-mail'].str.split('@').str[0]"
   ],
   "metadata": {
    "collapsed": false,
    "pycharm": {
     "name": "#%%\n"
    }
   }
  },
  {
   "cell_type": "markdown",
   "source": [
    "### upload to excel"
   ],
   "metadata": {
    "collapsed": false,
    "pycharm": {
     "name": "#%% md\n"
    }
   }
  },
  {
   "cell_type": "code",
   "execution_count": 13,
   "outputs": [],
   "source": [
    "ex.to_excel('data/output/Section2_Formulas101.xlsx', index=False)"
   ],
   "metadata": {
    "collapsed": false,
    "pycharm": {
     "name": "#%%\n"
    }
   }
  },
  {
   "cell_type": "code",
   "execution_count": 14,
   "outputs": [],
   "source": [
    "def freeze(x):\n",
    "    if x < 32:\n",
    "        return 'Yes'\n",
    "    return 'No'"
   ],
   "metadata": {
    "collapsed": false,
    "pycharm": {
     "name": "#%%\n"
    }
   }
  },
  {
   "cell_type": "code",
   "execution_count": 15,
   "outputs": [],
   "source": [
    "def climate(x):\n",
    "    if x < 40:\n",
    "        return 'Cold'\n",
    "    elif x > 80:\n",
    "        return 'Hot'\n",
    "    return 'Mild'"
   ],
   "metadata": {
    "collapsed": false,
    "pycharm": {
     "name": "#%%\n"
    }
   }
  },
  {
   "cell_type": "code",
   "execution_count": 16,
   "outputs": [],
   "source": [
    "weather['Freeze'] = weather['TEMP (F)'].apply(freeze)\n",
    "weather['Climate'] = weather['TEMP (F)'].apply(climate)"
   ],
   "metadata": {
    "collapsed": false,
    "pycharm": {
     "name": "#%%\n"
    }
   }
  },
  {
   "cell_type": "code",
   "execution_count": 17,
   "outputs": [],
   "source": [
    "def prcp(x,y):\n",
    "    if x == 'Yes' and y > 0:\n",
    "        return 'Snow'\n",
    "    elif x == 'No' and y > 0:\n",
    "        return 'Rain'\n",
    "    return 'None'"
   ],
   "metadata": {
    "collapsed": false,
    "pycharm": {
     "name": "#%%\n"
    }
   }
  },
  {
   "cell_type": "code",
   "execution_count": 18,
   "outputs": [],
   "source": [
    "weather['PRCP Type'] = np.vectorize(prcp)(weather['Freeze'], weather['PRCP (mm)'])"
   ],
   "metadata": {
    "collapsed": false,
    "pycharm": {
     "name": "#%%\n"
    }
   }
  },
  {
   "cell_type": "code",
   "execution_count": 19,
   "outputs": [],
   "source": [
    "def conditions(x):\n",
    "    if x == 'Snow':\n",
    "        return 'Dry'\n",
    "    return 'Wet'"
   ],
   "metadata": {
    "collapsed": false,
    "pycharm": {
     "name": "#%%\n"
    }
   }
  },
  {
   "cell_type": "code",
   "execution_count": 20,
   "outputs": [],
   "source": [
    "weather['Conditions'] = weather['PRCP Type'].apply(conditions)"
   ],
   "metadata": {
    "collapsed": false,
    "pycharm": {
     "name": "#%%\n"
    }
   }
  },
  {
   "cell_type": "code",
   "execution_count": 21,
   "outputs": [],
   "source": [
    "weather.to_excel('data/output/Section3_Logical.xlsx', index=False)"
   ],
   "metadata": {
    "collapsed": false,
    "pycharm": {
     "name": "#%%\n"
    }
   }
  },
  {
   "cell_type": "code",
   "execution_count": 6,
   "outputs": [
    {
     "data": {
      "text/plain": "      Year Team League     Player    Salary  Rank  % Rank\n0     2010  ARI     NL  abreuto01    407000   NaN     NaN\n1     2010  ARI     NL  boyerbl01    725000   NaN     NaN\n2     2010  ARI     NL   drewst01   3400000   NaN     NaN\n3     2010  ARI     NL  gutieju01    411000   NaN     NaN\n4     2010  ARI     NL  harenda01   8250000   NaN     NaN\n...    ...  ...    ...        ...       ...   ...     ...\n4129  2014  WAS     NL  storedr01   3450000   NaN     NaN\n4130  2014  WAS     NL  strasst01   3975000   NaN     NaN\n4131  2014  WAS     NL  werthja01  20000000   NaN     NaN\n4132  2014  WAS     NL  zimmejo02   7500000   NaN     NaN\n4133  2014  WAS     NL  zimmery01  14000000   NaN     NaN\n\n[4134 rows x 7 columns]",
      "text/html": "<div>\n<style scoped>\n    .dataframe tbody tr th:only-of-type {\n        vertical-align: middle;\n    }\n\n    .dataframe tbody tr th {\n        vertical-align: top;\n    }\n\n    .dataframe thead th {\n        text-align: right;\n    }\n</style>\n<table border=\"1\" class=\"dataframe\">\n  <thead>\n    <tr style=\"text-align: right;\">\n      <th></th>\n      <th>Year</th>\n      <th>Team</th>\n      <th>League</th>\n      <th>Player</th>\n      <th>Salary</th>\n      <th>Rank</th>\n      <th>% Rank</th>\n    </tr>\n  </thead>\n  <tbody>\n    <tr>\n      <th>0</th>\n      <td>2010</td>\n      <td>ARI</td>\n      <td>NL</td>\n      <td>abreuto01</td>\n      <td>407000</td>\n      <td>NaN</td>\n      <td>NaN</td>\n    </tr>\n    <tr>\n      <th>1</th>\n      <td>2010</td>\n      <td>ARI</td>\n      <td>NL</td>\n      <td>boyerbl01</td>\n      <td>725000</td>\n      <td>NaN</td>\n      <td>NaN</td>\n    </tr>\n    <tr>\n      <th>2</th>\n      <td>2010</td>\n      <td>ARI</td>\n      <td>NL</td>\n      <td>drewst01</td>\n      <td>3400000</td>\n      <td>NaN</td>\n      <td>NaN</td>\n    </tr>\n    <tr>\n      <th>3</th>\n      <td>2010</td>\n      <td>ARI</td>\n      <td>NL</td>\n      <td>gutieju01</td>\n      <td>411000</td>\n      <td>NaN</td>\n      <td>NaN</td>\n    </tr>\n    <tr>\n      <th>4</th>\n      <td>2010</td>\n      <td>ARI</td>\n      <td>NL</td>\n      <td>harenda01</td>\n      <td>8250000</td>\n      <td>NaN</td>\n      <td>NaN</td>\n    </tr>\n    <tr>\n      <th>...</th>\n      <td>...</td>\n      <td>...</td>\n      <td>...</td>\n      <td>...</td>\n      <td>...</td>\n      <td>...</td>\n      <td>...</td>\n    </tr>\n    <tr>\n      <th>4129</th>\n      <td>2014</td>\n      <td>WAS</td>\n      <td>NL</td>\n      <td>storedr01</td>\n      <td>3450000</td>\n      <td>NaN</td>\n      <td>NaN</td>\n    </tr>\n    <tr>\n      <th>4130</th>\n      <td>2014</td>\n      <td>WAS</td>\n      <td>NL</td>\n      <td>strasst01</td>\n      <td>3975000</td>\n      <td>NaN</td>\n      <td>NaN</td>\n    </tr>\n    <tr>\n      <th>4131</th>\n      <td>2014</td>\n      <td>WAS</td>\n      <td>NL</td>\n      <td>werthja01</td>\n      <td>20000000</td>\n      <td>NaN</td>\n      <td>NaN</td>\n    </tr>\n    <tr>\n      <th>4132</th>\n      <td>2014</td>\n      <td>WAS</td>\n      <td>NL</td>\n      <td>zimmejo02</td>\n      <td>7500000</td>\n      <td>NaN</td>\n      <td>NaN</td>\n    </tr>\n    <tr>\n      <th>4133</th>\n      <td>2014</td>\n      <td>WAS</td>\n      <td>NL</td>\n      <td>zimmery01</td>\n      <td>14000000</td>\n      <td>NaN</td>\n      <td>NaN</td>\n    </tr>\n  </tbody>\n</table>\n<p>4134 rows × 7 columns</p>\n</div>"
     },
     "execution_count": 6,
     "metadata": {},
     "output_type": "execute_result"
    }
   ],
   "source": [
    "stat"
   ],
   "metadata": {
    "collapsed": false,
    "pycharm": {
     "name": "#%%\n"
    }
   }
  },
  {
   "cell_type": "code",
   "execution_count": 9,
   "outputs": [],
   "source": [
    "stat['Rank'] = stat['Salary'].rank(ascending=False)"
   ],
   "metadata": {
    "collapsed": false,
    "pycharm": {
     "name": "#%%\n"
    }
   }
  },
  {
   "cell_type": "code",
   "execution_count": 13,
   "outputs": [],
   "source": [
    "stat['% Rank'] = stat['Salary'].rank(pct=True)"
   ],
   "metadata": {
    "collapsed": false,
    "pycharm": {
     "name": "#%%\n"
    }
   }
  },
  {
   "cell_type": "code",
   "execution_count": 14,
   "outputs": [
    {
     "data": {
      "text/plain": "      Year Team League     Player    Salary    Rank    % Rank\n0     2010  ARI     NL  abreuto01    407000  4014.5  0.029149\n1     2010  ARI     NL  boyerbl01    725000  2459.5  0.405298\n2     2010  ARI     NL   drewst01   3400000  1318.0  0.681422\n3     2010  ARI     NL  gutieju01    411000  3977.5  0.038099\n4     2010  ARI     NL  harenda01   8250000   563.0  0.864054\n...    ...  ...    ...        ...       ...     ...       ...\n4129  2014  WAS     NL  storedr01   3450000  1314.0  0.682390\n4130  2014  WAS     NL  strasst01   3975000  1205.5  0.708636\n4131  2014  WAS     NL  werthja01  20000000    65.0  0.984519\n4132  2014  WAS     NL  zimmejo02   7500000   635.5  0.846517\n4133  2014  WAS     NL  zimmery01  14000000   225.5  0.945694\n\n[4134 rows x 7 columns]",
      "text/html": "<div>\n<style scoped>\n    .dataframe tbody tr th:only-of-type {\n        vertical-align: middle;\n    }\n\n    .dataframe tbody tr th {\n        vertical-align: top;\n    }\n\n    .dataframe thead th {\n        text-align: right;\n    }\n</style>\n<table border=\"1\" class=\"dataframe\">\n  <thead>\n    <tr style=\"text-align: right;\">\n      <th></th>\n      <th>Year</th>\n      <th>Team</th>\n      <th>League</th>\n      <th>Player</th>\n      <th>Salary</th>\n      <th>Rank</th>\n      <th>% Rank</th>\n    </tr>\n  </thead>\n  <tbody>\n    <tr>\n      <th>0</th>\n      <td>2010</td>\n      <td>ARI</td>\n      <td>NL</td>\n      <td>abreuto01</td>\n      <td>407000</td>\n      <td>4014.5</td>\n      <td>0.029149</td>\n    </tr>\n    <tr>\n      <th>1</th>\n      <td>2010</td>\n      <td>ARI</td>\n      <td>NL</td>\n      <td>boyerbl01</td>\n      <td>725000</td>\n      <td>2459.5</td>\n      <td>0.405298</td>\n    </tr>\n    <tr>\n      <th>2</th>\n      <td>2010</td>\n      <td>ARI</td>\n      <td>NL</td>\n      <td>drewst01</td>\n      <td>3400000</td>\n      <td>1318.0</td>\n      <td>0.681422</td>\n    </tr>\n    <tr>\n      <th>3</th>\n      <td>2010</td>\n      <td>ARI</td>\n      <td>NL</td>\n      <td>gutieju01</td>\n      <td>411000</td>\n      <td>3977.5</td>\n      <td>0.038099</td>\n    </tr>\n    <tr>\n      <th>4</th>\n      <td>2010</td>\n      <td>ARI</td>\n      <td>NL</td>\n      <td>harenda01</td>\n      <td>8250000</td>\n      <td>563.0</td>\n      <td>0.864054</td>\n    </tr>\n    <tr>\n      <th>...</th>\n      <td>...</td>\n      <td>...</td>\n      <td>...</td>\n      <td>...</td>\n      <td>...</td>\n      <td>...</td>\n      <td>...</td>\n    </tr>\n    <tr>\n      <th>4129</th>\n      <td>2014</td>\n      <td>WAS</td>\n      <td>NL</td>\n      <td>storedr01</td>\n      <td>3450000</td>\n      <td>1314.0</td>\n      <td>0.682390</td>\n    </tr>\n    <tr>\n      <th>4130</th>\n      <td>2014</td>\n      <td>WAS</td>\n      <td>NL</td>\n      <td>strasst01</td>\n      <td>3975000</td>\n      <td>1205.5</td>\n      <td>0.708636</td>\n    </tr>\n    <tr>\n      <th>4131</th>\n      <td>2014</td>\n      <td>WAS</td>\n      <td>NL</td>\n      <td>werthja01</td>\n      <td>20000000</td>\n      <td>65.0</td>\n      <td>0.984519</td>\n    </tr>\n    <tr>\n      <th>4132</th>\n      <td>2014</td>\n      <td>WAS</td>\n      <td>NL</td>\n      <td>zimmejo02</td>\n      <td>7500000</td>\n      <td>635.5</td>\n      <td>0.846517</td>\n    </tr>\n    <tr>\n      <th>4133</th>\n      <td>2014</td>\n      <td>WAS</td>\n      <td>NL</td>\n      <td>zimmery01</td>\n      <td>14000000</td>\n      <td>225.5</td>\n      <td>0.945694</td>\n    </tr>\n  </tbody>\n</table>\n<p>4134 rows × 7 columns</p>\n</div>"
     },
     "execution_count": 14,
     "metadata": {},
     "output_type": "execute_result"
    }
   ],
   "source": [
    "stat"
   ],
   "metadata": {
    "collapsed": false,
    "pycharm": {
     "name": "#%%\n"
    }
   }
  },
  {
   "cell_type": "code",
   "execution_count": null,
   "outputs": [],
   "source": [],
   "metadata": {
    "collapsed": false,
    "pycharm": {
     "name": "#%%\n"
    }
   }
  }
 ],
 "metadata": {
  "kernelspec": {
   "display_name": "Python 3",
   "language": "python",
   "name": "python3"
  },
  "language_info": {
   "codemirror_mode": {
    "name": "ipython",
    "version": 2
   },
   "file_extension": ".py",
   "mimetype": "text/x-python",
   "name": "python",
   "nbconvert_exporter": "python",
   "pygments_lexer": "ipython2",
   "version": "2.7.6"
  }
 },
 "nbformat": 4,
 "nbformat_minor": 0
}