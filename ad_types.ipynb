{
 "cells": [
  {
   "cell_type": "code",
   "execution_count": 1,
   "metadata": {
    "collapsed": true
   },
   "outputs": [],
   "source": [
    "import pandas\n",
    "import numpy\n",
    "import pandas as pd\n",
    "import matplotlib.pyplot as plt\n",
    "import seaborn as sns"
   ]
  },
  {
   "cell_type": "code",
   "execution_count": 2,
   "outputs": [
    {
     "name": "stderr",
     "output_type": "stream",
     "text": [
      "/opt/anaconda3/envs/DataScience/lib/python3.9/site-packages/openpyxl/styles/stylesheet.py:226: UserWarning: Workbook contains no default style, apply openpyxl's default\n",
      "  warn(\"Workbook contains no default style, apply openpyxl's default\")\n"
     ]
    }
   ],
   "source": [
    "ad = pd.read_excel('data/AD_TYPES_ALL_100.xlsx')"
   ],
   "metadata": {
    "collapsed": false,
    "pycharm": {
     "name": "#%%\n"
    }
   }
  },
  {
   "cell_type": "code",
   "execution_count": 3,
   "outputs": [
    {
     "data": {
      "text/plain": "       Name Gender  MON 0-8h  MON 8-16h MON 16-24h   TUE 0-8h  TUE 8-16h  \\\ncount   100    100       100        100        100        100        100   \nunique   87      2         3          3          3          3          3   \ntop      AT   Male  Built-up  Outskirts  Outskirts  Outskirts  Outskirts   \nfreq      3     57        52         52         36         49         64   \n\n       TUE 16-24h  WED 0-8h WED 8-16h  ... THU 16-24h   FRI 0-8h    FRI 8-16h  \\\ncount         100       100       100  ...        100        100          100   \nunique          3         3         3  ...          3          3            3   \ntop      Built-up  Built-up  Built-up  ...  Outskirts  Outskirts  City center   \nfreq           60        48        52  ...         70         73           46   \n\n       FRI 16-24h  SAT 0-8h  SAT 8-16h SAT 16-24h   SUN 0-8h  SUN 8-16h  \\\ncount         100       100        100        100        100        100   \nunique          3         3          3          3          3          3   \ntop      Built-up  Built-up  Outskirts  Outskirts  Outskirts  Outskirts   \nfreq           73        43         48         61         51         54   \n\n       SUN 16-24h  \ncount         100  \nunique          3  \ntop     Outskirts  \nfreq           65  \n\n[4 rows x 23 columns]",
      "text/html": "<div>\n<style scoped>\n    .dataframe tbody tr th:only-of-type {\n        vertical-align: middle;\n    }\n\n    .dataframe tbody tr th {\n        vertical-align: top;\n    }\n\n    .dataframe thead th {\n        text-align: right;\n    }\n</style>\n<table border=\"1\" class=\"dataframe\">\n  <thead>\n    <tr style=\"text-align: right;\">\n      <th></th>\n      <th>Name</th>\n      <th>Gender</th>\n      <th>MON 0-8h</th>\n      <th>MON 8-16h</th>\n      <th>MON 16-24h</th>\n      <th>TUE 0-8h</th>\n      <th>TUE 8-16h</th>\n      <th>TUE 16-24h</th>\n      <th>WED 0-8h</th>\n      <th>WED 8-16h</th>\n      <th>...</th>\n      <th>THU 16-24h</th>\n      <th>FRI 0-8h</th>\n      <th>FRI 8-16h</th>\n      <th>FRI 16-24h</th>\n      <th>SAT 0-8h</th>\n      <th>SAT 8-16h</th>\n      <th>SAT 16-24h</th>\n      <th>SUN 0-8h</th>\n      <th>SUN 8-16h</th>\n      <th>SUN 16-24h</th>\n    </tr>\n  </thead>\n  <tbody>\n    <tr>\n      <th>count</th>\n      <td>100</td>\n      <td>100</td>\n      <td>100</td>\n      <td>100</td>\n      <td>100</td>\n      <td>100</td>\n      <td>100</td>\n      <td>100</td>\n      <td>100</td>\n      <td>100</td>\n      <td>...</td>\n      <td>100</td>\n      <td>100</td>\n      <td>100</td>\n      <td>100</td>\n      <td>100</td>\n      <td>100</td>\n      <td>100</td>\n      <td>100</td>\n      <td>100</td>\n      <td>100</td>\n    </tr>\n    <tr>\n      <th>unique</th>\n      <td>87</td>\n      <td>2</td>\n      <td>3</td>\n      <td>3</td>\n      <td>3</td>\n      <td>3</td>\n      <td>3</td>\n      <td>3</td>\n      <td>3</td>\n      <td>3</td>\n      <td>...</td>\n      <td>3</td>\n      <td>3</td>\n      <td>3</td>\n      <td>3</td>\n      <td>3</td>\n      <td>3</td>\n      <td>3</td>\n      <td>3</td>\n      <td>3</td>\n      <td>3</td>\n    </tr>\n    <tr>\n      <th>top</th>\n      <td>AT</td>\n      <td>Male</td>\n      <td>Built-up</td>\n      <td>Outskirts</td>\n      <td>Outskirts</td>\n      <td>Outskirts</td>\n      <td>Outskirts</td>\n      <td>Built-up</td>\n      <td>Built-up</td>\n      <td>Built-up</td>\n      <td>...</td>\n      <td>Outskirts</td>\n      <td>Outskirts</td>\n      <td>City center</td>\n      <td>Built-up</td>\n      <td>Built-up</td>\n      <td>Outskirts</td>\n      <td>Outskirts</td>\n      <td>Outskirts</td>\n      <td>Outskirts</td>\n      <td>Outskirts</td>\n    </tr>\n    <tr>\n      <th>freq</th>\n      <td>3</td>\n      <td>57</td>\n      <td>52</td>\n      <td>52</td>\n      <td>36</td>\n      <td>49</td>\n      <td>64</td>\n      <td>60</td>\n      <td>48</td>\n      <td>52</td>\n      <td>...</td>\n      <td>70</td>\n      <td>73</td>\n      <td>46</td>\n      <td>73</td>\n      <td>43</td>\n      <td>48</td>\n      <td>61</td>\n      <td>51</td>\n      <td>54</td>\n      <td>65</td>\n    </tr>\n  </tbody>\n</table>\n<p>4 rows × 23 columns</p>\n</div>"
     },
     "execution_count": 3,
     "metadata": {},
     "output_type": "execute_result"
    }
   ],
   "source": [
    "ad.describe(include='O')"
   ],
   "metadata": {
    "collapsed": false,
    "pycharm": {
     "name": "#%%\n"
    }
   }
  },
  {
   "cell_type": "code",
   "execution_count": null,
   "outputs": [],
   "source": [],
   "metadata": {
    "collapsed": false,
    "pycharm": {
     "name": "#%%\n"
    }
   }
  }
 ],
 "metadata": {
  "kernelspec": {
   "display_name": "Python 3",
   "language": "python",
   "name": "python3"
  },
  "language_info": {
   "codemirror_mode": {
    "name": "ipython",
    "version": 2
   },
   "file_extension": ".py",
   "mimetype": "text/x-python",
   "name": "python",
   "nbconvert_exporter": "python",
   "pygments_lexer": "ipython2",
   "version": "2.7.6"
  }
 },
 "nbformat": 4,
 "nbformat_minor": 0
}