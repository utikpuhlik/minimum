{
 "cells": [
  {
   "cell_type": "code",
   "execution_count": 87,
   "metadata": {
    "collapsed": true
   },
   "outputs": [],
   "source": [
    "import pandas\n",
    "import numpy\n",
    "import pandas as pd\n",
    "import matplotlib.pyplot as plt"
   ]
  },
  {
   "cell_type": "code",
   "execution_count": 88,
   "outputs": [
    {
     "name": "stderr",
     "output_type": "stream",
     "text": [
      "/opt/anaconda3/envs/DataScience/lib/python3.9/site-packages/openpyxl/styles/stylesheet.py:226: UserWarning: Workbook contains no default style, apply openpyxl's default\n",
      "  warn(\"Workbook contains no default style, apply openpyxl's default\")\n"
     ]
    }
   ],
   "source": [
    "demand = pd.read_excel('data/DEMAND_QUANT_ALL_PRODS_100.xlsx', sheet_name='Demands')"
   ],
   "metadata": {
    "collapsed": false,
    "pycharm": {
     "name": "#%%\n"
    }
   }
  },
  {
   "cell_type": "code",
   "execution_count": 89,
   "outputs": [
    {
     "data": {
      "text/plain": "ID                                                  67228.00\nWeekly income                                        7634.00\nPreferred quality                                      43.77\nŽelvy z Wall Street_Bubo nambo (3751)                 285.00\nŽelvy z Wall Street_Ramen Noodls (3752)                 0.00\nBig Bowls_Ryzove rezance s kuracim masom (3753)      2027.00\nŽelvy z Wall Street_Asian Special (3755)              208.00\nAV Gastro_Maki (3756)                                   0.00\nAV Gastro_Pizza Hawaii (3758)                         121.00\nAV Gastro_Sushi (3759)                                  0.00\nAV Gastro_Lasagne (3760)                                0.00\nAV Gastro_Bento Box (3761)                              0.00\nAV Gastro_Risotto (3762)                                0.00\nBig Bowls_Ostrokyslá polievka (3763)                    0.00\nAV Gastro_Pekingská Kachna (3764)                       0.00\nBig Bowls_Chrumkava kačica (3766)                       0.00\nČerná perla_Knedlo-vepřo-zelo (3767)                    0.00\nČerná perla_Smažený sýr (3768)                        219.00\nBig Bowls_Krtkuv DORT! (3769)                          23.00\nThe Sour Place_Svíčkova na smetaně (3770)            5090.00\nThe Sour Place_Knedlo vepřo zelo (3771)                85.00\nAV Gastro_Svíčková (3772)                               0.00\nČerná perla_Svíčková se šesti (3773)                  538.00\nThe Sour Place_Vepřový řízek s bramborami (3774)        0.00\nAV Gastro_Párek v rohlíku (3775)                        0.00\nThe Sour Place_Smažák (3776)                            0.00\nThe Sour Place_Radnom jedlo (3777)                      0.00\nBig Bowls_Morcadela na vinnom základe (3778)          330.00\nČerná perla_nudle (3779)                               94.00\nČerná perla_kung pao (3780)                             0.00\nČerná perla_pizza (3781)                                0.00\nČerná perla_těstoviny (3782)                            0.00\nBig Bowls_Thai Curry  (3783)                            0.00\nThe Sour Place_Teriaki boooy (3784)                    38.00\nBig Bowls_Kung Pao (3785)                              31.00\nThe Sour Place_Ramen (3786)                             0.00\nThe Sour Place_Nudle s kuřecím maserm (3787)            0.00\nBig Bowls_Pad Thai (3788)                             200.00\ndtype: float64"
     },
     "execution_count": 89,
     "metadata": {},
     "output_type": "execute_result"
    }
   ],
   "source": [
    "demand.sum(numeric_only=True)"
   ],
   "metadata": {
    "collapsed": false,
    "pycharm": {
     "name": "#%%\n"
    }
   }
  },
  {
   "cell_type": "code",
   "execution_count": 90,
   "outputs": [
    {
     "name": "stderr",
     "output_type": "stream",
     "text": [
      "/opt/anaconda3/envs/DataScience/lib/python3.9/site-packages/openpyxl/styles/stylesheet.py:226: UserWarning: Workbook contains no default style, apply openpyxl's default\n",
      "  warn(\"Workbook contains no default style, apply openpyxl's default\")\n"
     ]
    }
   ],
   "source": [
    "demand2 = pd.read_excel('data/DEMAND_QUANT_ALL_PRODS_100.xlsx', sheet_name='Product demands - unpivoted')"
   ],
   "metadata": {
    "collapsed": false,
    "pycharm": {
     "name": "#%%\n"
    }
   }
  },
  {
   "cell_type": "code",
   "execution_count": 91,
   "outputs": [
    {
     "data": {
      "text/plain": "                     Name                 Category                          \\\n                    count unique top freq    count unique              top   \nTeam                                                                         \nAV Gastro               1      1  TF    1        1      1  Italian cuisine   \nBig Bowls              35     31  LC    2       35      3    Asian cuisine   \nThe Sour Place         59     53  GM    3       59      2    Czech cuisine   \nČerná perla            14     14  IS    1       14      2    Czech cuisine   \nŽelvy z Wall Street    11     10  LC    2       11      1    Asian cuisine   \n\n                         Product name                                         \\\n                    freq        count unique                             top   \nTeam                                                                           \nAV Gastro              1            1      1                    Pizza Hawaii   \nBig Bowls             32           35      5  Ryzove rezance s kuracim masom   \nThe Sour Place        58           59      3             Svíčkova na smetaně   \nČerná perla           11           14      3               Svíčková se šesti   \nŽelvy z Wall Street   11           11      2                      Bubo nambo   \n\n                          \n                    freq  \nTeam                      \nAV Gastro              1  \nBig Bowls             24  \nThe Sour Place        56  \nČerná perla            7  \nŽelvy z Wall Street    6  ",
      "text/html": "<div>\n<style scoped>\n    .dataframe tbody tr th:only-of-type {\n        vertical-align: middle;\n    }\n\n    .dataframe tbody tr th {\n        vertical-align: top;\n    }\n\n    .dataframe thead tr th {\n        text-align: left;\n    }\n\n    .dataframe thead tr:last-of-type th {\n        text-align: right;\n    }\n</style>\n<table border=\"1\" class=\"dataframe\">\n  <thead>\n    <tr>\n      <th></th>\n      <th colspan=\"4\" halign=\"left\">Name</th>\n      <th colspan=\"4\" halign=\"left\">Category</th>\n      <th colspan=\"4\" halign=\"left\">Product name</th>\n    </tr>\n    <tr>\n      <th></th>\n      <th>count</th>\n      <th>unique</th>\n      <th>top</th>\n      <th>freq</th>\n      <th>count</th>\n      <th>unique</th>\n      <th>top</th>\n      <th>freq</th>\n      <th>count</th>\n      <th>unique</th>\n      <th>top</th>\n      <th>freq</th>\n    </tr>\n    <tr>\n      <th>Team</th>\n      <th></th>\n      <th></th>\n      <th></th>\n      <th></th>\n      <th></th>\n      <th></th>\n      <th></th>\n      <th></th>\n      <th></th>\n      <th></th>\n      <th></th>\n      <th></th>\n    </tr>\n  </thead>\n  <tbody>\n    <tr>\n      <th>AV Gastro</th>\n      <td>1</td>\n      <td>1</td>\n      <td>TF</td>\n      <td>1</td>\n      <td>1</td>\n      <td>1</td>\n      <td>Italian cuisine</td>\n      <td>1</td>\n      <td>1</td>\n      <td>1</td>\n      <td>Pizza Hawaii</td>\n      <td>1</td>\n    </tr>\n    <tr>\n      <th>Big Bowls</th>\n      <td>35</td>\n      <td>31</td>\n      <td>LC</td>\n      <td>2</td>\n      <td>35</td>\n      <td>3</td>\n      <td>Asian cuisine</td>\n      <td>32</td>\n      <td>35</td>\n      <td>5</td>\n      <td>Ryzove rezance s kuracim masom</td>\n      <td>24</td>\n    </tr>\n    <tr>\n      <th>The Sour Place</th>\n      <td>59</td>\n      <td>53</td>\n      <td>GM</td>\n      <td>3</td>\n      <td>59</td>\n      <td>2</td>\n      <td>Czech cuisine</td>\n      <td>58</td>\n      <td>59</td>\n      <td>3</td>\n      <td>Svíčkova na smetaně</td>\n      <td>56</td>\n    </tr>\n    <tr>\n      <th>Černá perla</th>\n      <td>14</td>\n      <td>14</td>\n      <td>IS</td>\n      <td>1</td>\n      <td>14</td>\n      <td>2</td>\n      <td>Czech cuisine</td>\n      <td>11</td>\n      <td>14</td>\n      <td>3</td>\n      <td>Svíčková se šesti</td>\n      <td>7</td>\n    </tr>\n    <tr>\n      <th>Želvy z Wall Street</th>\n      <td>11</td>\n      <td>10</td>\n      <td>LC</td>\n      <td>2</td>\n      <td>11</td>\n      <td>1</td>\n      <td>Asian cuisine</td>\n      <td>11</td>\n      <td>11</td>\n      <td>2</td>\n      <td>Bubo nambo</td>\n      <td>6</td>\n    </tr>\n  </tbody>\n</table>\n</div>"
     },
     "execution_count": 91,
     "metadata": {},
     "output_type": "execute_result"
    }
   ],
   "source": [
    "demand2.groupby('Team').describe(include=['object'])"
   ],
   "metadata": {
    "collapsed": false,
    "pycharm": {
     "name": "#%%\n"
    }
   }
  },
  {
   "cell_type": "code",
   "execution_count": 91,
   "outputs": [],
   "source": [],
   "metadata": {
    "collapsed": false,
    "pycharm": {
     "name": "#%%\n"
    }
   }
  },
  {
   "cell_type": "code",
   "execution_count": 91,
   "outputs": [],
   "source": [],
   "metadata": {
    "collapsed": false,
    "pycharm": {
     "name": "#%%\n"
    }
   }
  }
 ],
 "metadata": {
  "kernelspec": {
   "display_name": "Python 3",
   "language": "python",
   "name": "python3"
  },
  "language_info": {
   "codemirror_mode": {
    "name": "ipython",
    "version": 2
   },
   "file_extension": ".py",
   "mimetype": "text/x-python",
   "name": "python",
   "nbconvert_exporter": "python",
   "pygments_lexer": "ipython2",
   "version": "2.7.6"
  }
 },
 "nbformat": 4,
 "nbformat_minor": 0
}