{
 "cells": [
  {
   "cell_type": "code",
   "execution_count": 6,
   "metadata": {
    "collapsed": true
   },
   "outputs": [],
   "source": [
    "import pandas\n",
    "import numpy\n",
    "import pandas as pd\n",
    "import matplotlib.pyplot as plt"
   ]
  },
  {
   "cell_type": "code",
   "execution_count": 7,
   "outputs": [
    {
     "name": "stderr",
     "output_type": "stream",
     "text": [
      "/opt/anaconda3/envs/DataScience/lib/python3.9/site-packages/openpyxl/styles/stylesheet.py:226: UserWarning: Workbook contains no default style, apply openpyxl's default\n",
      "  warn(\"Workbook contains no default style, apply openpyxl's default\")\n"
     ]
    }
   ],
   "source": [
    "demand = pd.read_excel('data/DEMAND.xlsx', sheet_name='Demands')"
   ],
   "metadata": {
    "collapsed": false,
    "pycharm": {
     "name": "#%%\n"
    }
   }
  },
  {
   "cell_type": "code",
   "execution_count": 8,
   "outputs": [
    {
     "data": {
      "text/plain": "ID                                               69024.00\nWeekly income                                     6797.00\nPreferred quality                                   43.21\nBig Bowls_Kuracie s ryžovými rezancami (4051)     2115.00\nBig Bowls_Pho Bo (4052)                            262.00\nČerné perly_Svíčková se šesti (4055)                 0.00\nAV Gastro_Asain low (4056)                           0.00\nAV Gastro_Czech low (4057)                           0.00\nAV Gastro_Asian moderate (4058)                      0.00\nAV Gastro_Czech moderate (4059)                      0.00\nAV Gastro_Asian excellent (4060)                     0.00\nAV Gastro_Italian low (4061)                         0.00\nČerné perly_Rizzoto (4062)                           0.00\nČerné perly_Jarní závitky (4065)                   189.00\nAV Gastro_Italian moderate (4066)                    0.00\nAV Gastro_Czech excellent (4067)                     0.00\nThe Sour Place_Czech food (4068)                    27.00\nAV Gastro_Italian excellent (4069)                   0.00\nThe Sour Place_Czech food 2 (4070)                  88.00\nČerné perly_Vepřo knedlo (4071)                     45.00\nČerné perly_Extra pizza (4072)                     236.00\nThe Sour Place_Asian food (4073)                     0.00\nČerné perly_Kung pao (4074)                          0.00\nŽelvy z Wallstreet_Produkt 1 (4075)                  0.00\nBig Bowls_Pata syr (4076)                            0.00\nŽelvy z Wallstreet_El produtto uno (4077)            0.00\ndtype: float64"
     },
     "execution_count": 8,
     "metadata": {},
     "output_type": "execute_result"
    }
   ],
   "source": [
    "demand.sum(numeric_only=True)"
   ],
   "metadata": {
    "collapsed": false,
    "pycharm": {
     "name": "#%%\n"
    }
   }
  },
  {
   "cell_type": "code",
   "execution_count": 9,
   "outputs": [
    {
     "name": "stderr",
     "output_type": "stream",
     "text": [
      "/opt/anaconda3/envs/DataScience/lib/python3.9/site-packages/openpyxl/styles/stylesheet.py:226: UserWarning: Workbook contains no default style, apply openpyxl's default\n",
      "  warn(\"Workbook contains no default style, apply openpyxl's default\")\n"
     ]
    }
   ],
   "source": [
    "demand2 = pd.read_excel('data/DEMAND.xlsx', sheet_name='Product demands - unpivoted')"
   ],
   "metadata": {
    "collapsed": false,
    "pycharm": {
     "name": "#%%\n"
    }
   }
  },
  {
   "cell_type": "code",
   "execution_count": 10,
   "outputs": [
    {
     "data": {
      "text/plain": "                Name                 Category                             \\\n               count unique top freq    count unique            top freq   \nTeam                                                                       \nBig Bowls         39     35  VV    2       39      1  Asian cuisine   39   \nThe Sour Place     2      2  OK    1        2      1  Czech cuisine    2   \nČerné perly        9      9  CB    1        9      3  Asian cuisine    5   \n\n               Product name                                            \n                      count unique                           top freq  \nTeam                                                                   \nBig Bowls                39      2  Kuracie s ryžovými rezancami   34  \nThe Sour Place            2      2                    Czech food    1  \nČerné perly               9      3                 Jarní závitky    5  ",
      "text/html": "<div>\n<style scoped>\n    .dataframe tbody tr th:only-of-type {\n        vertical-align: middle;\n    }\n\n    .dataframe tbody tr th {\n        vertical-align: top;\n    }\n\n    .dataframe thead tr th {\n        text-align: left;\n    }\n\n    .dataframe thead tr:last-of-type th {\n        text-align: right;\n    }\n</style>\n<table border=\"1\" class=\"dataframe\">\n  <thead>\n    <tr>\n      <th></th>\n      <th colspan=\"4\" halign=\"left\">Name</th>\n      <th colspan=\"4\" halign=\"left\">Category</th>\n      <th colspan=\"4\" halign=\"left\">Product name</th>\n    </tr>\n    <tr>\n      <th></th>\n      <th>count</th>\n      <th>unique</th>\n      <th>top</th>\n      <th>freq</th>\n      <th>count</th>\n      <th>unique</th>\n      <th>top</th>\n      <th>freq</th>\n      <th>count</th>\n      <th>unique</th>\n      <th>top</th>\n      <th>freq</th>\n    </tr>\n    <tr>\n      <th>Team</th>\n      <th></th>\n      <th></th>\n      <th></th>\n      <th></th>\n      <th></th>\n      <th></th>\n      <th></th>\n      <th></th>\n      <th></th>\n      <th></th>\n      <th></th>\n      <th></th>\n    </tr>\n  </thead>\n  <tbody>\n    <tr>\n      <th>Big Bowls</th>\n      <td>39</td>\n      <td>35</td>\n      <td>VV</td>\n      <td>2</td>\n      <td>39</td>\n      <td>1</td>\n      <td>Asian cuisine</td>\n      <td>39</td>\n      <td>39</td>\n      <td>2</td>\n      <td>Kuracie s ryžovými rezancami</td>\n      <td>34</td>\n    </tr>\n    <tr>\n      <th>The Sour Place</th>\n      <td>2</td>\n      <td>2</td>\n      <td>OK</td>\n      <td>1</td>\n      <td>2</td>\n      <td>1</td>\n      <td>Czech cuisine</td>\n      <td>2</td>\n      <td>2</td>\n      <td>2</td>\n      <td>Czech food</td>\n      <td>1</td>\n    </tr>\n    <tr>\n      <th>Černé perly</th>\n      <td>9</td>\n      <td>9</td>\n      <td>CB</td>\n      <td>1</td>\n      <td>9</td>\n      <td>3</td>\n      <td>Asian cuisine</td>\n      <td>5</td>\n      <td>9</td>\n      <td>3</td>\n      <td>Jarní závitky</td>\n      <td>5</td>\n    </tr>\n  </tbody>\n</table>\n</div>"
     },
     "execution_count": 10,
     "metadata": {},
     "output_type": "execute_result"
    }
   ],
   "source": [
    "demand2.groupby('Team').describe(include=['object'])"
   ],
   "metadata": {
    "collapsed": false,
    "pycharm": {
     "name": "#%%\n"
    }
   }
  },
  {
   "cell_type": "code",
   "execution_count": 10,
   "outputs": [],
   "source": [],
   "metadata": {
    "collapsed": false,
    "pycharm": {
     "name": "#%%\n"
    }
   }
  },
  {
   "cell_type": "code",
   "execution_count": 10,
   "outputs": [],
   "source": [],
   "metadata": {
    "collapsed": false,
    "pycharm": {
     "name": "#%%\n"
    }
   }
  }
 ],
 "metadata": {
  "kernelspec": {
   "display_name": "Python 3",
   "language": "python",
   "name": "python3"
  },
  "language_info": {
   "codemirror_mode": {
    "name": "ipython",
    "version": 2
   },
   "file_extension": ".py",
   "mimetype": "text/x-python",
   "name": "python",
   "nbconvert_exporter": "python",
   "pygments_lexer": "ipython2",
   "version": "2.7.6"
  }
 },
 "nbformat": 4,
 "nbformat_minor": 0
}